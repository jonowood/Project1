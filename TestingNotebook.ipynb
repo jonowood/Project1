{
 "cells": [
  {
   "cell_type": "code",
   "execution_count": 1,
   "id": "d16e3c0c",
   "metadata": {},
   "outputs": [
    {
     "name": "stdout",
     "output_type": "stream",
     "text": [
      "hello team 4\n"
     ]
    }
   ],
   "source": [
    "#V im working on cleaning using pandas \n",
    "\n",
    "\n",
    "print(\"hello team 4\")"
   ]
  },
  {
   "cell_type": "code",
   "execution_count": 2,
   "id": "419f30d7",
   "metadata": {},
   "outputs": [
    {
     "name": "stdout",
     "output_type": "stream",
     "text": [
      "lets' do this!\n"
     ]
    }
   ],
   "source": [
    "print(\"lets' do this!\")"
   ]
  }
 ],
 "metadata": {
  "kernelspec": {
   "display_name": "Python 3 (ipykernel)",
   "language": "python",
   "name": "python3"
  },
  "language_info": {
   "codemirror_mode": {
    "name": "ipython",
    "version": 3
   },
   "file_extension": ".py",
   "mimetype": "text/x-python",
   "name": "python",
   "nbconvert_exporter": "python",
   "pygments_lexer": "ipython3",
   "version": "3.7.7"
  }
 },
 "nbformat": 4,
 "nbformat_minor": 5
}
